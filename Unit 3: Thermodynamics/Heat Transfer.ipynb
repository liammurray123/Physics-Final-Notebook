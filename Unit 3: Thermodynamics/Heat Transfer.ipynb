{
 "cells": [
  {
   "cell_type": "markdown",
   "metadata": {},
   "source": [
    "## Heat Transfer via Radiative Heat Loss"
   ]
  },
  {
   "cell_type": "code",
   "execution_count": 10,
   "metadata": {},
   "outputs": [
    {
     "name": "stdout",
     "output_type": "stream",
     "text": [
      "The total rate of heat transfer due to radiation is: -119.00933189446513 [Watts]\n"
     ]
    }
   ],
   "source": [
    "#### INITAL CONDITIONS #######\n",
    "ems = 1               # Emissivity (0 to 1)\n",
    "kB = 5.670e-8     # Stefan-Boltzmann constant (W * m^-2 * K^-4)\n",
    "A = 1.7                 # Surface area (m^2)\n",
    "Tobject = 28 + 273.15  # Temperature of object in Kelvin.\n",
    "Tamb = 16 + 273.15     # Ambiant temperature in Kelvin\n",
    "\n",
    "rate = -A*ems*kB*((Tobject**4) - (Tamb**4))\n",
    "print(\"The total rate of heat transfer due to radiation is:\", rate, \"[Watts]\")"
   ]
  },
  {
   "cell_type": "markdown",
   "metadata": {},
   "source": [
    "### Heat Transfer via Convective Heat Loss"
   ]
  },
  {
   "cell_type": "code",
   "execution_count": 11,
   "metadata": {},
   "outputs": [
    {
     "name": "stdout",
     "output_type": "stream",
     "text": [
      "The total rate of heat transfer due to convection is: 255.0 [Watts]\n"
     ]
    }
   ],
   "source": [
    "#### INITAL CONDITIONS #######\n",
    "kC = -12.5             # Convection coefficient (W/m^2/K)\n",
    "A = 1.7                # Surface area (m^2)\n",
    "Tobject = 28 + 273.15  # Temperature of object in Kelvin.\n",
    "Tamb = 16 + 273.15     # Ambiant temperature in Kelvin\n",
    "\n",
    "rate = -kC * A * (Tobject - Tamb)\n",
    "print(\"The total rate of heat transfer due to convection is:\", rate, \"[Watts]\")"
   ]
  },
  {
   "cell_type": "code",
   "execution_count": null,
   "metadata": {},
   "outputs": [],
   "source": []
  }
 ],
 "metadata": {
  "kernelspec": {
   "display_name": "base",
   "language": "python",
   "name": "python3"
  },
  "language_info": {
   "codemirror_mode": {
    "name": "ipython",
    "version": 3
   },
   "file_extension": ".py",
   "mimetype": "text/x-python",
   "name": "python",
   "nbconvert_exporter": "python",
   "pygments_lexer": "ipython3",
   "version": "3.12.2"
  }
 },
 "nbformat": 4,
 "nbformat_minor": 2
}
