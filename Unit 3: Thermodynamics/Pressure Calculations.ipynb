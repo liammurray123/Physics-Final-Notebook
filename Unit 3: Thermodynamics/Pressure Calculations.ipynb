{
 "cells": [
  {
   "cell_type": "code",
   "execution_count": 1,
   "metadata": {},
   "outputs": [
    {
     "name": "stdout",
     "output_type": "stream",
     "text": [
      "Good to go 🚀\n"
     ]
    }
   ],
   "source": [
    "'''\n",
    " ▗▄▄▖ ▗▄▖  ▗▄▄▖    ▗▖    ▗▄▖ ▗▖ ▗▖     ▗▄▄▖ ▗▄▖ ▗▖    ▗▄▄▖▗▖ ▗▖▗▖    ▗▄▖▗▄▄▄▖▗▄▄▄▖ ▗▄▖ ▗▖  ▗▖ ▗▄▄▖\n",
    "▐▌   ▐▌ ▐▌▐▌       ▐▌   ▐▌ ▐▌▐▌ ▐▌    ▐▌   ▐▌ ▐▌▐▌   ▐▌   ▐▌ ▐▌▐▌   ▐▌ ▐▌ █    █  ▐▌ ▐▌▐▛▚▖▐▌▐▌   \n",
    "▐▌▝▜▌▐▛▀▜▌ ▝▀▚▖    ▐▌   ▐▛▀▜▌▐▌ ▐▌    ▐▌   ▐▛▀▜▌▐▌   ▐▌   ▐▌ ▐▌▐▌   ▐▛▀▜▌ █    █  ▐▌ ▐▌▐▌ ▝▜▌ ▝▀▚▖\n",
    "▝▚▄▞▘▐▌ ▐▌▗▄▄▞▘    ▐▙▄▄▖▐▌ ▐▌▐▙█▟▌    ▝▚▄▄▖▐▌ ▐▌▐▙▄▄▖▝▚▄▄▖▝▚▄▞▘▐▙▄▄▖▐▌ ▐▌ █  ▗▄█▄▖▝▚▄▞▘▐▌  ▐▌▗▄▄▞▘\n",
    "\n",
    "                        -- A program for Science One, by Liam Murray --\n",
    "'''                                                                                                \n",
    "                                                                                                  \n",
    "\n",
    "# Import all the good stuff\n",
    "import numpy as np\n",
    "print(\"Good to go 🚀\")"
   ]
  },
  {
   "cell_type": "markdown",
   "metadata": {},
   "source": [
    "# Pressure Calculations\n",
    "$$\n",
    "P = \\frac{Nm\\overline{v^2_x}}{V}\n",
    "$$\n",
    "$$\n",
    "P = \\frac{n K_{b} T}{V}\n",
    "$$"
   ]
  },
  {
   "cell_type": "code",
   "execution_count": 17,
   "metadata": {},
   "outputs": [],
   "source": [
    "# Initial Conditions\n",
    "\n",
    "P = 101325 # Pressure in Pa (1 kPA = 1000 Pa)\n",
    "V = 1 # Volume in m^3\n",
    "m = 1.008 * 1.66e-27 # Mass of particle in AMU -> kg (AMU is equal to Molar Mass)\n",
    "v_x = 287.6009 # Particle velocity in x direction in m/s\n",
    "# n = 0\n",
    "N = 2.55e+25\n",
    "T = 15 + 273.15 # Temperature in K, given as °C + 273.15 = 273.15K\n",
    "\n",
    "R = 8.314 # Gas constant\n",
    "K = 1.380649e-23 # Boltzmann's constant"
   ]
  },
  {
   "cell_type": "markdown",
   "metadata": {},
   "source": [
    "## Solve for P\n",
    "$$P = \\frac{nRT}{V}$$\n",
    "$$P = \\frac{nK_bT}{V}$$"
   ]
  },
  {
   "cell_type": "code",
   "execution_count": 16,
   "metadata": {},
   "outputs": [
    {
     "name": "stdout",
     "output_type": "stream",
     "text": [
      "Using Boltzmann version: \n",
      "P =  101447.67238425 Pa\n"
     ]
    }
   ],
   "source": [
    "# To solve for P\n",
    "def r_method():\n",
    "    P = (n*R*T)/V\n",
    "    return P\n",
    "\n",
    "def kb_method():\n",
    "    P = (N*K*T)/V\n",
    "    return P\n",
    "\n",
    "try:\n",
    "    P = r_method()\n",
    "    print(\"Using Gas Constant version: \\nP = \", P, \"Pa\")\n",
    "except:\n",
    "    P = kb_method()\n",
    "    print(\"Using Boltzmann version: \\nP = \", P, \"Pa\")\n",
    "else: \n",
    "    pass"
   ]
  },
  {
   "cell_type": "markdown",
   "metadata": {},
   "source": [
    "## Solve for N"
   ]
  },
  {
   "cell_type": "code",
   "execution_count": 14,
   "metadata": {},
   "outputs": [
    {
     "name": "stdout",
     "output_type": "stream",
     "text": [
      "Using mean-V version: \n",
      "N =  7.329814525601905e+26 particles\n"
     ]
    }
   ],
   "source": [
    "# To solve for N\n",
    "\n",
    "def N_calc():\n",
    "    n = (P*V)/(m*np.mean(v_x**2))\n",
    "    return n\n",
    "    \n",
    "def N_calc_backup():\n",
    "    n = (P*V)/(K*T)\n",
    "    return n\n",
    "\n",
    "# def v_x_calc():\n",
    "#    v = np.sqrt((P*V)/(N*m))\n",
    "#    return v\n",
    "\n",
    "try:\n",
    "    N = N_calc()\n",
    "    print(\"Using mean-V version: \\nN = \", N, \"particles\")\n",
    "except:\n",
    "    N = N_calc_backup()\n",
    "    print(\"Using Boltzmann version: \\nN = \", N, \"particles\")\n",
    "else: \n",
    "    pass"
   ]
  },
  {
   "cell_type": "markdown",
   "metadata": {},
   "source": [
    "## Solve for Velocity"
   ]
  },
  {
   "cell_type": "markdown",
   "metadata": {},
   "source": [
    "### Find \"root-mean-square\" normal velocity (RMS)\n",
    "The velocity at which the air strikes the side of the container.\n",
    "$$\n",
    "V_{rms \\ (x)} = \\sqrt{\\overline{v_x^2}}\n",
    "$$"
   ]
  },
  {
   "cell_type": "code",
   "execution_count": 18,
   "metadata": {},
   "outputs": [
    {
     "name": "stdout",
     "output_type": "stream",
     "text": [
      "V_rms = 287.6009 m/s\n"
     ]
    }
   ],
   "source": [
    "V_rms_norm = np.sqrt(np.mean(v_x**2))\n",
    "\n",
    "print(\"V_rms =\", V_rms_norm, \"m/s\")"
   ]
  },
  {
   "cell_type": "markdown",
   "metadata": {},
   "source": [
    "### Find RMS Total Velocity\n",
    "$$\n",
    "v^2 = 3\\cdot\\overline{v_x^2}\n",
    "$$\n",
    "$$\n",
    "v_{rms \\ (total)} = \\sqrt{\\overline{v^2}}\n",
    "$$"
   ]
  },
  {
   "cell_type": "code",
   "execution_count": 19,
   "metadata": {},
   "outputs": [
    {
     "name": "stdout",
     "output_type": "stream",
     "text": [
      "V_rms_total = 498.13937110253596 m/s\n"
     ]
    }
   ],
   "source": [
    "v2 = 3* np.mean(v_x**2)\n",
    "\n",
    "v_rms_total = np.sqrt(np.mean(v2))\n",
    "\n",
    "print(\"V_rms_total =\", v_rms_total, \"m/s\")"
   ]
  },
  {
   "cell_type": "code",
   "execution_count": null,
   "metadata": {},
   "outputs": [],
   "source": []
  }
 ],
 "metadata": {
  "kernelspec": {
   "display_name": "base",
   "language": "python",
   "name": "python3"
  },
  "language_info": {
   "codemirror_mode": {
    "name": "ipython",
    "version": 3
   },
   "file_extension": ".py",
   "mimetype": "text/x-python",
   "name": "python",
   "nbconvert_exporter": "python",
   "pygments_lexer": "ipython3",
   "version": "3.12.2"
  }
 },
 "nbformat": 4,
 "nbformat_minor": 2
}
