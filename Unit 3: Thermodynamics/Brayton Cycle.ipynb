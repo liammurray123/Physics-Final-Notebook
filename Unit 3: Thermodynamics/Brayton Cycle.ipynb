{
 "cells": [
  {
   "cell_type": "markdown",
   "metadata": {},
   "source": [
    "### Brayton cycle for pressure ratio of 40 and a maximum operating temperature of 1200 C."
   ]
  },
  {
   "cell_type": "code",
   "execution_count": 5,
   "metadata": {},
   "outputs": [
    {
     "name": "stdout",
     "output_type": "stream",
     "text": [
      "W 519281.39695094654  J/cycle\n",
      "QH 795039.8546923656 J/cycle\n",
      "eta (calc) 0.6531514035253974\n",
      "eta (theory) 0.651447201574415\n"
     ]
    },
    {
     "data": {
      "image/png": "[encoded data removed]",
      "text/plain": [
       "<Figure size 432x288 with 1 Axes>"
      ]
     },
     "metadata": {
      "needs_background": "light"
     },
     "output_type": "display_data"
    }
   ],
   "source": [
    "import numpy as np\n",
    "import matplotlib.pyplot as plt\n",
    "\n",
    "gamma = 1.4 # ratio of specific heats for air (diatomic)\n",
    "R = 8.31 # J/mol/K\n",
    "zabs = 273.15 # K\n",
    "\n",
    "# Ambient air data\n",
    "\n",
    "Tcel = 15 # C, ambient\n",
    "rho_atm = 1.225  # kg/m^3 at 15 C\n",
    "Patm = 101325  # Pa\n",
    "mm = 0.02897 # kg/mol\n",
    "nmol = rho_atm/mm   #  of moles\n",
    "CP = 3.5*R  # molar heat capacity for diatomic molecule, constant pressure\n",
    "\n",
    "# Engine data\n",
    "\n",
    "Pratio = 40 # pressure ratio P2/P1\n",
    "Tmax = 1200 # C, max the engine materials can withstand\n",
    "\n",
    "\n",
    "\n",
    "P1 = Patm  # Pa\n",
    "V1 = 1 # m^3\n",
    "T1 = Tcel + zabs # K\n",
    "\n",
    "# Adiabat\n",
    "\n",
    "P2 = P1*Pratio\n",
    "V2 = V1*(P1/P2)**(1/gamma)\n",
    "T2 = T1*(V1/V2)**(gamma-1)\n",
    "\n",
    "# Isobar\n",
    "\n",
    "P3 = P2\n",
    "T3 = Tmax + zabs\n",
    "V3 = nmol*R*T3/P3\n",
    "\n",
    "# Adiabat\n",
    "\n",
    "P4 = P1\n",
    "V4 = V3*(P3/P4)**(1/gamma)\n",
    "T4 = T3*(V3/V4)**(gamma-1)\n",
    "\n",
    "# Set up segments for plotting\n",
    "\n",
    "V12 = np.linspace(V1,V2)\n",
    "P12 = P1*(V1/V12)**gamma\n",
    "\n",
    "V23 = np.linspace(V2,V3)\n",
    "P23 = np.linspace(P2,P3)\n",
    "\n",
    "V34 = np.linspace(V3,V4)\n",
    "P34 = P3*(V3/V34)**gamma\n",
    "\n",
    "V41 = np.linspace(V4,V1)\n",
    "P41 = np.linspace(P4,P1)\n",
    "\n",
    "W = -np.trapz(V34,P34)-np.trapz(V12,P12)   # area of cycle (J)\n",
    "QH = CP*nmol*(T3-T2)              # heat in (J)\n",
    "eta = W/QH                        # efficiency\n",
    "eta_thy = 1-T1/T2\n",
    "\n",
    "print('W', W, ' J/cycle')\n",
    "print('QH',QH, 'J/cycle')\n",
    "print('eta (calc)', eta)\n",
    "print('eta (theory)', eta_thy)\n",
    "\n",
    "plt.figure\n",
    "plt.plot(V12, P12/1e6, label=(\"1->2\"))\n",
    "plt.plot(V23, P23/1e6, label=(\"2->3\"))\n",
    "plt.plot(V34, P34/1e6, label=(\"3->4\"))\n",
    "plt.plot(V41, P41/1e6, label=(\"4->1\"))\n",
    "plt.xlabel(\"Volume (m$^3$)\")\n",
    "plt.ylabel(\"Pressure (MPa)\")\n",
    "plt.title(\"Brayton Cycle for 1 m$^3$ of air\")\n",
    "plt.legend()\n",
    "plt.show()\n",
    "\n"
   ]
  }
 ],
 "metadata": {
  "kernelspec": {
   "display_name": "base",
   "language": "python",
   "name": "python3"
  },
  "language_info": {
   "codemirror_mode": {
    "name": "ipython",
    "version": 3
   },
   "file_extension": ".py",
   "mimetype": "text/x-python",
   "name": "python",
   "nbconvert_exporter": "python",
   "pygments_lexer": "ipython3",
   "version": "3.12.2"
  }
 },
 "nbformat": 4,
 "nbformat_minor": 4
}
